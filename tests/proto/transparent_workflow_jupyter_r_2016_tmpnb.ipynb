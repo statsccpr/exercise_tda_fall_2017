{
 "cells": [
  {
   "cell_type": "markdown",
   "metadata": {},
   "source": [
    "# 0. Setup - API Key, Load [R] Packages"
   ]
  },
  {
   "cell_type": "markdown",
   "metadata": {},
   "source": [
    "Use the 'cloud' version of jupyter notebook with R\n",
    "\n",
    "https://tmpnb.org\n",
    "\n",
    "You Need a free Census API \"Key\" - Signup\n",
    "\n",
    "http://api.census.gov/data/key_signup.html\n",
    "\n",
    "Install [R] Packages that we will use latter"
   ]
  },
  {
   "cell_type": "code",
   "execution_count": null,
   "metadata": {
    "collapsed": true
   },
   "outputs": [],
   "source": [
    "# install.packages(c('dplyr','httr','jsonlite','tidyr','ggplot2','foreign',\n",
    "#                   'reshape','haven','packrat'),\n",
    "#                   lib='/usr/local/lib/R/site-library',dependencies=TRUE)"
   ]
  },
  {
   "cell_type": "markdown",
   "metadata": {},
   "source": [
    "Load [R] Packages that we will use latter"
   ]
  },
  {
   "cell_type": "code",
   "execution_count": null,
   "metadata": {
    "collapsed": false
   },
   "outputs": [],
   "source": [
    "library(dplyr)\n",
    "\n",
    "library(httr)\n",
    "library(jsonlite)\n",
    "\n",
    "library(tidyr)\n",
    "\n",
    "\n",
    "library(ggplot2)\n",
    "\n",
    "library(foreign)\n",
    "\n",
    "# below aren't necessary, they're alternative 'Paths to Rome'\n",
    "# library(reshape)\n",
    "# library(haven)\n",
    "# library(packrat)"
   ]
  },
  {
   "cell_type": "code",
   "execution_count": null,
   "metadata": {
    "collapsed": false
   },
   "outputs": [],
   "source": [
    "install.packages('packrat')"
   ]
  },
  {
   "cell_type": "markdown",
   "metadata": {},
   "source": [
    "## Mental Exercise: Reflect on how the Jupyter or Rstudio workflow can help transparency\n",
    "\n",
    "Answer in the jupyter markdown block below"
   ]
  },
  {
   "cell_type": "markdown",
   "metadata": {},
   "source": []
  },
  {
   "cell_type": "markdown",
   "metadata": {},
   "source": [
    "# 1. Obtain - Data Stream"
   ]
  },
  {
   "cell_type": "markdown",
   "metadata": {},
   "source": [
    "## Application Programming Interface - US Census API\n",
    "\n",
    "In a nutshell, an API is a set of well-defined 'rules of engagement' to request items from a supplier.\n",
    "\n",
    "https://en.wikipedia.org/wiki/Application_programming_interface\n",
    "    \n",
    "\n",
    "Most commonly, you glue together 3 items as a web URL\n",
    "\n",
    "    1. a standardized \"base\" web url \n",
    "        (doesn't change for anyone or any request)\n",
    "        \n",
    "    2. your specific request items \n",
    "        (can change, up to the user)\n",
    "        \n",
    "    3. your user-specific API Key \n",
    "        (fixed for individual user, but different across individuals)\n",
    "    \n",
    "We will get our requested data from the US Census Bureau API\n",
    "\n",
    "A one stop shop table of contents that shows the currently available Census datasets\n",
    "\n",
    "http://api.census.gov/data.html\n",
    "\n",
    "\n",
    "## 2015 Census Planning Database: Tract Level\n",
    "We will use the US Census Bureau's API, to request the Census Planning Database: Tract Level\n",
    "\n",
    "Variables: \n",
    "\n",
    "http://api.census.gov/data/2015/pdb/tract/variables.html\n",
    "\n",
    "API Syntax:\n",
    "\n",
    "http://api.census.gov/data/2015/pdb/tract?get=FOO1&key=FOO2\n",
    "    \n",
    "NOTE: clicking the above URL will NOT work\n",
    "NOTE: the two \"FOO1\" and \"FOO2\" entries, which are placeholders, to be specified by YOU\n",
    "\n",
    "### Example - Glue: API base url + Request + ...\n",
    "\n",
    "Michael Tzen Requests:\n",
    "\n",
    "    Scope - LA County (state:06+county:037)\n",
    "    Entity - Tract Level\n",
    "    Attributes - County, State, Total Population in 2010 Census, Tract Land Area, Females in Census 2010\n",
    "\n",
    "Using the 'API rules of engagement' I shoehorn my requests into the WEB URL below:\n",
    "\n",
    "http://api.census.gov/data/2015/pdb/tract?get=County_name,State_name,Tot_Population_CEN_2010,LAND_AREA,Females_CEN_2010&for=tract:*&in=state:06+county:037&key=YOUR_KEY_GOES_HERE\n",
    "\n",
    "NOTE: clicking the above URL will NOT work\n",
    "\n",
    "NOTE: \"YOUR_KEY_GOES_HERE\" (\"FOO2\"), my user-specific API Key, is still NOT specified by me"
   ]
  },
  {
   "cell_type": "markdown",
   "metadata": {},
   "source": [
    "### [R] Example - Glue: API base url + Request + API Key\n",
    "[R] 'dplyr' package\n",
    "https://cran.rstudio.com/web/packages/dplyr/vignettes/introduction.html"
   ]
  },
  {
   "cell_type": "code",
   "execution_count": null,
   "metadata": {
    "collapsed": true
   },
   "outputs": [],
   "source": [
    "# put key inside quotes\n",
    "YOUR_KEY_GOES_HERE = \"\""
   ]
  },
  {
   "cell_type": "code",
   "execution_count": null,
   "metadata": {
    "collapsed": false
   },
   "outputs": [],
   "source": [
    "# library(dplyr)\n",
    "\n",
    "url_base = \"http://api.census.gov/data/2015/pdb/tract?\"\n",
    "\n",
    "request = \"County_name,State_name,Tot_Population_CEN_2010,LAND_AREA,Females_CEN_2010&for=tract:*&in=state:06+county:037\"\n",
    "\n",
    "# put key inside quotes\n",
    "# YOUR_KEY_GOES_HERE = \"\"\n",
    "\n",
    "# pasted output has quotes\n",
    "paste0(url_base,'get=',request,'&key=',YOUR_KEY_GOES_HERE)\n",
    "\n",
    "# paste output, THEN, noquotes\n",
    "paste0(url_base,'get=',request,'&key=',YOUR_KEY_GOES_HERE) %>% noquote()\n",
    "\n"
   ]
  },
  {
   "cell_type": "markdown",
   "metadata": {},
   "source": [
    "NOTE: Census API returns your requested data in \"JSON\" format\n",
    "\n",
    "https://en.wikipedia.org/wiki/JSON\n",
    "\n",
    "JSON in a nutshell: a list of key-value pairs.\n",
    "The current standard format since it is BOTH machine readable and has human readable layout (looks like a shopping list)"
   ]
  },
  {
   "cell_type": "markdown",
   "metadata": {},
   "source": [
    "### Modify your request - All Tracts in CA"
   ]
  },
  {
   "cell_type": "code",
   "execution_count": null,
   "metadata": {
    "collapsed": false
   },
   "outputs": [],
   "source": [
    "# add measure name (from Table of Contents), drop off '+county:037\" in 'for=tract:*&in=state:06+county:037'\n",
    "\n",
    "request_more = \"County_name,State_name,Tot_Population_CEN_2010,LAND_AREA,Females_CEN_2010&for=tract:*&in=state:06\"\n",
    "\n",
    "paste0(url_base,'get=',request_more,'&key=',YOUR_KEY_GOES_HERE)\n",
    "\n",
    "# paste output, THEN, noquotes\n",
    "paste0(url_base,'get=',request_more,'&key=',YOUR_KEY_GOES_HERE) %>% noquote()\n"
   ]
  },
  {
   "cell_type": "markdown",
   "metadata": {},
   "source": [
    "#### On Your Own: assemble an API call for New York State"
   ]
  },
  {
   "cell_type": "code",
   "execution_count": null,
   "metadata": {
    "collapsed": false
   },
   "outputs": [],
   "source": [
    "url_base = \"\"\n",
    "\n",
    "request = \"\"\n",
    "\n",
    "?paste0"
   ]
  },
  {
   "cell_type": "markdown",
   "metadata": {},
   "source": [
    "## Mental Exercise: Reflect on how the software steps make data obtainment a transparent process\n",
    "\n",
    "Answer in the jupyter markdown block below"
   ]
  },
  {
   "cell_type": "markdown",
   "metadata": {},
   "source": []
  },
  {
   "cell_type": "markdown",
   "metadata": {},
   "source": [
    "# 2. Input - Data into Software"
   ]
  },
  {
   "cell_type": "markdown",
   "metadata": {},
   "source": [
    "## Using [R] software, read and store the API returned JSON Data"
   ]
  },
  {
   "cell_type": "code",
   "execution_count": null,
   "metadata": {
    "collapsed": false
   },
   "outputs": [],
   "source": [
    "# library(httr)\n",
    "# library(jsonlite)\n",
    "\n",
    "# url_fin = paste0(url_base,'get=',request,'&key=',YOUR_KEY_GOES_HERE)  # pasted output has quotes\n",
    "# url_fin\n",
    "\n",
    "url_fin_more = paste0(url_base,'get=',request_more,'&key=',YOUR_KEY_GOES_HERE)  # pasted output has quotes\n",
    "url_fin = url_fin_more\n",
    "\n",
    "# ?GET\n",
    "req_url_fin = httr::GET(url_fin)\n",
    "\n",
    "# ?content\n",
    "# extract (json) content from a request\n",
    "\n",
    "json_req = httr::content(req_url_fin, as = \"text\")\n",
    "\n",
    "# agrees with 'point and click' return\n",
    "# json_req %>% cat()\n",
    "\n",
    "# human readable, \"prettify\" like a shopping list\n",
    "# prettify(json_req,indent=1)"
   ]
  },
  {
   "cell_type": "markdown",
   "metadata": {},
   "source": [
    "### Null Values"
   ]
  },
  {
   "cell_type": "markdown",
   "metadata": {},
   "source": [
    "[\"Los Angeles County\",\"California\",null,null,null,\"06\",\"037\",\"137000\"]"
   ]
  },
  {
   "cell_type": "markdown",
   "metadata": {},
   "source": [
    "## Convert JSON Data into Tabular Form - Characters and Numerics are Fundamental"
   ]
  },
  {
   "cell_type": "markdown",
   "metadata": {},
   "source": [
    "### Note: here, we manually copy+paste .json data returned from Census API\n",
    "the cell above using json_req = httr::content() is the programatic [R] way of getting the API content\n",
    "\n",
    "* caveat... we need network access for R and Jupyter (denied)\n",
    "\n",
    "'Error in curl::curl_fetch_memory(url, handle = handle): Couldn't resolve host name'\n",
    "\n",
    "So... let's just get the content manually. what we are doing here below.\n",
    "\n",
    "\n",
    "\n",
    "workaround: just copy and paste returned json (in browser tab)\n",
    "after 'clicking' the r assembled API call\n",
    "\n",
    "* 'patchwork' but students can see that .json is nothing more than a format like .csv\n",
    "* only used [R] to assemble the URL for API call\n",
    "* couldn't use R to 'navigate' the URL via `curl::curl_fetch_memory()`\n",
    "* BEAUTY of jupyter being in-browser, the assembled URL can be clicked (this is completley from jupyter / markdown)"
   ]
  },
  {
   "cell_type": "code",
   "execution_count": null,
   "metadata": {
    "collapsed": false
   },
   "outputs": [],
   "source": [
    "json_req = '[[\"County_name\",\"State_name\",\"Tot_Population_CEN_2010\",\"LAND_AREA\",\"Females_CEN_2010\",\"state\",\"county\",\"tract\"],\n",
    "[\"Alameda County\",\"California\",\"2937\",\"2.657\",\"1476\",\"06\",\"001\",\"400100\"]]'"
   ]
  },
  {
   "cell_type": "code",
   "execution_count": null,
   "metadata": {
    "collapsed": false
   },
   "outputs": [],
   "source": [
    "# ?fromJSON\n",
    "# https://cran.r-project.org/web/packages/jsonlite/vignettes/json-apis.html\n",
    "\n",
    "# NEEDS quotes around final url\n",
    "# url_fin = url_fin_more\n",
    "\n",
    "print(url_fin)\n",
    "\n",
    "data_pdb_raw = json_req %>%\n",
    "# url_fin %>% \n",
    "# noquote() %>%\n",
    "fromJSON()\n",
    "\n",
    "dim(data_pdb_raw)\n",
    "\n",
    "# json 'null' is correctly encoded as r matrix 'NA'\n",
    "\n",
    "summary(data_pdb_raw)\n",
    "# r matrix shows 1 NA, which agrees with single null in json source\n",
    "\n",
    "sum(is.na(data_pdb_raw))\n",
    "which(is.na(data_pdb_raw), arr.ind = TRUE)\n"
   ]
  },
  {
   "cell_type": "code",
   "execution_count": null,
   "metadata": {
    "collapsed": false
   },
   "outputs": [],
   "source": [
    "head(data_pdb_raw)"
   ]
  },
  {
   "cell_type": "code",
   "execution_count": null,
   "metadata": {
    "collapsed": false
   },
   "outputs": [],
   "source": [
    "data_pdb_raw[unique(which(is.na(data_pdb_raw), arr.ind = TRUE)[,1]),]\n"
   ]
  },
  {
   "cell_type": "code",
   "execution_count": null,
   "metadata": {
    "collapsed": false
   },
   "outputs": [],
   "source": [
    "dim(data_pdb_raw)\n",
    "\n",
    "# NA in row 1475\n",
    "data_pdb_raw[1475,]\n",
    "# data_pdb_raw = data_pdb_raw[-1475,]\n",
    "\n",
    "\n",
    "data_pdb_raw[unique(which(is.na(data_pdb_raw), arr.ind = TRUE)[,1]),]\n",
    "\n",
    "\n",
    "data_pdb_raw = data_pdb_raw[-unique(which(is.na(data_pdb_raw), arr.ind = TRUE)[,1]),]\n",
    "\n",
    "\n",
    "sum(is.na(data_pdb_raw))\n",
    "\n",
    "dim(data_pdb_raw)\n",
    "\n",
    "# <8b> is a jupyter idiom for '...' shortening output\n",
    "data_pdb_raw\n"
   ]
  },
  {
   "cell_type": "markdown",
   "metadata": {},
   "source": [
    "### Hurdle: Immediate Matrix without Header (Variable Names)\n",
    "\n",
    "BUT, It IS there in row 1. EVERYTHING is currently read as 'character' strings of text stored in a tabular MATRIX\n",
    "\n",
    "I view character strings as a huge benefit. Keeping everything as characters (at least initially) allows for consistent behavior when you merge, filter, apply logic to your data. It Prevents you from shooting yourself in the foot (like adding two strings, say \"State Code\" + \"County Code\"). This is Tomatoe = Potatoe. Later on, we explicitly convert intended numeric numbers into numeric data (Tomatoe = Tomatoe)."
   ]
  },
  {
   "cell_type": "code",
   "execution_count": null,
   "metadata": {
    "collapsed": false
   },
   "outputs": [],
   "source": [
    "class(data_pdb_raw)\n",
    "dim(data_pdb_raw)\n",
    "\n",
    "str(data_pdb_raw)\n",
    "\n",
    "colnames(data_pdb_raw)\n",
    "rownames(data_pdb_raw)\n"
   ]
  },
  {
   "cell_type": "markdown",
   "metadata": {},
   "source": [
    "### Hurdle: Humans recognize that first row represents variable names, Need Computer to recognize it too (as column names)"
   ]
  },
  {
   "cell_type": "code",
   "execution_count": null,
   "metadata": {
    "collapsed": false
   },
   "outputs": [],
   "source": [
    "# first row of matrix - humans understand as the intended variable names\n",
    "data_pdb_raw[1,]\n",
    "\n",
    "# column names (header) of matrix - computer understands as empty\n",
    "colnames(data_pdb_raw)\n",
    "\n",
    "# make the assignment: column names of matrix = first row of matrix\n",
    "colnames(data_pdb_raw) = data_pdb_raw[1,]\n",
    "\n",
    "# assignment reflected but first row still present (redundant)\n",
    "data_pdb_raw %>% head()\n",
    "\n",
    "# data_pdb_mat: a new object distinguishing it from _raw source\n",
    "# throw away first row\n",
    "\n",
    "data_pdb_mat = data_pdb_raw[-1,] \n",
    "\n",
    "data_pdb_mat\n"
   ]
  },
  {
   "cell_type": "markdown",
   "metadata": {},
   "source": [
    "### Hurdle: Matrix to Dataframe, but [R] default converts characters, we want to keep everything as Fundamental 'Character' string\n",
    "\n",
    "options(stringsAsFactors = FALSE)\n"
   ]
  },
  {
   "cell_type": "code",
   "execution_count": null,
   "metadata": {
    "collapsed": true
   },
   "outputs": [],
   "source": [
    "# set options"
   ]
  },
  {
   "cell_type": "code",
   "execution_count": null,
   "metadata": {
    "collapsed": false
   },
   "outputs": [],
   "source": [
    "str(data_pdb_mat)\n",
    "\n",
    "# NOTE: default of [R]: automaticaly converting 'character' to 'factor' \n",
    "# this is an artifact leftover from oldtime convenience\n",
    "\n",
    "data_pdb_mat %>% as.data.frame() %>% str()\n",
    "\n",
    "# turn that default option OFF\n",
    "options(stringsAsFactors = FALSE)\n",
    "\n",
    "data_pdb_mat %>% as.data.frame() %>% str()\n",
    "\n",
    "# store as data frame\n",
    "data_pdb_df = data_pdb_mat %>% as.data.frame()\n",
    "\n"
   ]
  },
  {
   "cell_type": "markdown",
   "metadata": {},
   "source": [
    "### Hurdle: Humans recognize that 'Tot_Population_CEN_2010' represents a count, Need Computer to recognize it too (as 'Numeric' number)"
   ]
  },
  {
   "cell_type": "code",
   "execution_count": null,
   "metadata": {
    "collapsed": false
   },
   "outputs": [],
   "source": [
    "data_pdb_df %>%\n",
    "str()\n",
    "\n",
    "# want numeric numbers for\n",
    "# Tot_Population_CEN_2010\n",
    "# LAND_AREA\n",
    "# Females_CEN_2010\n",
    "\n",
    "# more data\n",
    "data_pdb_df = data_pdb_df %>% \n",
    "mutate(Tot_Population_CEN_2010=as.numeric(Tot_Population_CEN_2010),\n",
    "       LAND_AREA=as.numeric(LAND_AREA)       \n",
    "      ) \n",
    "\n",
    "data_pdb_df %>%\n",
    "str()\n",
    "\n",
    "data_pdb_df %>%\n",
    "summary()\n",
    "\n"
   ]
  },
  {
   "cell_type": "markdown",
   "metadata": {},
   "source": [
    "#### On Your Own: convert 'Females_CEN_2010' to a numeric number"
   ]
  },
  {
   "cell_type": "code",
   "execution_count": null,
   "metadata": {
    "collapsed": true
   },
   "outputs": [],
   "source": [
    "data_pdb_df = data_pdb_df %>% \n",
    "mutate(      \n",
    "      ) \n",
    "\n",
    "# check structure"
   ]
  },
  {
   "cell_type": "markdown",
   "metadata": {},
   "source": [
    "## Clear Hurdle? Basic Assertions - Check some Snapple Facts"
   ]
  },
  {
   "cell_type": "markdown",
   "metadata": {},
   "source": [
    "### Can Population be Negative?"
   ]
  },
  {
   "cell_type": "code",
   "execution_count": null,
   "metadata": {
    "collapsed": false
   },
   "outputs": [],
   "source": [
    "data_pdb_df %>% \n",
    "filter(Tot_Population_CEN_2010 < 0)\n",
    "\n",
    "data_pdb_df %>% \n",
    "filter(Tot_Population_CEN_2010 < 0) %>%\n",
    "nrow()"
   ]
  },
  {
   "cell_type": "markdown",
   "metadata": {},
   "source": [
    "### Basic Assertion: How ManyTracts have Positive Population?"
   ]
  },
  {
   "cell_type": "code",
   "execution_count": null,
   "metadata": {
    "collapsed": false
   },
   "outputs": [],
   "source": [
    "data_pdb_df %>% \n",
    "filter(Tot_Population_CEN_2010 > 0) %>% nrow()"
   ]
  },
  {
   "cell_type": "markdown",
   "metadata": {},
   "source": [
    "### Basic Assertion: How Many Tracts have Positive OR Zero Population? (Should be all Tracts in LA County)"
   ]
  },
  {
   "cell_type": "code",
   "execution_count": null,
   "metadata": {
    "collapsed": false
   },
   "outputs": [],
   "source": [
    "# apply filter where Total Population Count >=0\n",
    "\n",
    "data_pdb_df %>% \n",
    "filter((Tot_Population_CEN_2010 > 0) || (Tot_Population_CEN_2010 == 0)) %>% \n",
    "nrow()\n",
    "\n",
    "# number of rows in census returned dataset (raw)\n",
    "# no filter\n",
    "data_pdb_df %>% nrow()"
   ]
  },
  {
   "cell_type": "markdown",
   "metadata": {},
   "source": [
    "#### On Your Own: How Many Tracts have Zero Population?"
   ]
  },
  {
   "cell_type": "code",
   "execution_count": null,
   "metadata": {
    "collapsed": true
   },
   "outputs": [],
   "source": [
    "data_pdb_df %>% \n",
    "filter() %>% \n",
    "nrow()"
   ]
  },
  {
   "cell_type": "markdown",
   "metadata": {},
   "source": [
    "### Basic Assertion: Does our sum of LA County population agree with Independent Source?"
   ]
  },
  {
   "cell_type": "code",
   "execution_count": null,
   "metadata": {
    "collapsed": false
   },
   "outputs": [],
   "source": [
    "# is.na(data_pdb_df)\n",
    "# summary(data_pdb_df)\n",
    "\n",
    "data_pdb_df %>%\n",
    "group_by(County_name) %>%\n",
    "summarise(Tot_Pop_County = sum(Tot_Population_CEN_2010))\n",
    "\n",
    "summary(data_pdb_df)\n"
   ]
  },
  {
   "cell_type": "markdown",
   "metadata": {},
   "source": [
    "https://www.google.com/search?q=how+many+people+in+la+county&ie=utf-8&oe=utf-8"
   ]
  },
  {
   "cell_type": "markdown",
   "metadata": {},
   "source": [
    "## Mental Exercise: Reflect on how the software steps make reading in data a transparent process\n",
    "\n",
    "Answer in the jupyter markdown block below"
   ]
  },
  {
   "cell_type": "markdown",
   "metadata": {},
   "source": []
  },
  {
   "cell_type": "markdown",
   "metadata": {},
   "source": [
    "# 3. Wrangle - Data into Analysis Ready Tabular Form\n",
    "\n",
    "https://www.rstudio.com/wp-content/uploads/2015/02/data-wrangling-cheatsheet.pdf"
   ]
  },
  {
   "cell_type": "markdown",
   "metadata": {},
   "source": [
    "## Start with Tidy data, then Wrangle to Coordinate\n",
    "The API returned census data is already in \"Tidy\" format (each row is an entity, each column is a measure)"
   ]
  },
  {
   "cell_type": "markdown",
   "metadata": {},
   "source": [
    "Example: Tidy\n",
    "\n",
    "Name | Year | Age | Sex \n",
    "--------- | ------------- | -------------- | --------------\n",
    "Arnold Schwarzenegger | 2030 | 34 | M\n",
    "Arnold Schwarzenegger | 2040 | 44 | M\n",
    "Sofia Vergara | 2030 | 30 | F\n",
    "Sofia Vergara | 2040 | 40 | F\n",
    "\n",
    "Example: Coordinate\n",
    "\n",
    "Name | Year | Variable Name | Variable Value\n",
    "- | - | - | -\n",
    "Arnold Schwarzenegger | 2030 | Age | 34\n",
    "Arnold Schwarzenegger |2030 | Sex | M\n",
    "Arnold Schwarzenegger | 2040 | Age | 44\n",
    "Arnold Schwarzenegger | 2040 | Sex | M\n",
    "Sofia Vergara | 2030 | Age | 30\n",
    "Sofia Vergara | 2030 | Sex | F\n",
    "Sofia Vergara | 2040 | Age | 40\n",
    "Sofia Vergara | 2040 | Sex | F\n"
   ]
  },
  {
   "cell_type": "markdown",
   "metadata": {},
   "source": [
    "### Create Primary Key / Entity ID by gluing raw entity variables via 'tidyr' and unite()"
   ]
  },
  {
   "cell_type": "code",
   "execution_count": null,
   "metadata": {
    "collapsed": false
   },
   "outputs": [],
   "source": [
    "# library(tidyr)\n",
    "\n",
    "data_pdb_df %>% \n",
    "head()\n",
    "\n",
    "# [State,County,Tract] are the three variables, when viewed together, define the entity id\n",
    "# County_name, State_name, Tot_Population_CEN_2010, are the three variables that are measurements of the entitiy\n",
    "\n",
    "# ?tidyr::unite() to glue together variables into single entity id\n",
    "\n",
    "# primary key := create a single entity id, by uniting the three entity variables\n",
    "data_pdb_df_pk = data_pdb_df %>% \n",
    "unite(\"state_county_tract\",state,county,tract)\n",
    "\n",
    "data_pdb_df_pk %>% head()\n",
    "\n",
    "# note: unite() default behavior drops original entity variables, and glues in underscore \"_\"\n"
   ]
  },
  {
   "cell_type": "markdown",
   "metadata": {},
   "source": [
    "#### On Your Own: ?separate() the 'state_county_tract' variable back into 3 separate variables for state, county, tract "
   ]
  },
  {
   "cell_type": "code",
   "execution_count": null,
   "metadata": {
    "collapsed": false
   },
   "outputs": [],
   "source": [
    "?tidyr::separate"
   ]
  },
  {
   "cell_type": "code",
   "execution_count": null,
   "metadata": {
    "collapsed": true
   },
   "outputs": [],
   "source": [
    "data_pdb_df_pk %>% "
   ]
  },
  {
   "cell_type": "markdown",
   "metadata": {},
   "source": [
    " #### Many ways to Rome: Create Primary Key / Entity ID"
   ]
  },
  {
   "cell_type": "code",
   "execution_count": null,
   "metadata": {
    "collapsed": false
   },
   "outputs": [],
   "source": [
    "# Alternative way of creating entity id by gluing entity variables\n",
    "# using mutate(paste0())\n",
    "\n",
    "data_pdb_df %>% \n",
    "mutate(state_county_tract_v2 = paste0(state,county,tract)) %>% \n",
    "head()\n"
   ]
  },
  {
   "cell_type": "markdown",
   "metadata": {},
   "source": [
    "### Tidy to Coordinate via 'tidyr' and gather()"
   ]
  },
  {
   "cell_type": "code",
   "execution_count": null,
   "metadata": {
    "collapsed": false
   },
   "outputs": [],
   "source": [
    "# Except for our entity id \"state_county_tract\"\n",
    "# gather all columns (several measures) into two seperate columns [variable name,variable value]\n",
    "\n",
    "data_pdb_df_pk %>%\n",
    "gather(var_name,var_val,-state_county_tract) %>%\n",
    "head()\n",
    "\n",
    "\n",
    "data_pdb_df_pk %>%\n",
    "gather(var_name,var_val,-state_county_tract) %>%\n",
    "tail()\n",
    "\n",
    "\n",
    "data_pdb_df_coord = data_pdb_df_pk %>%\n",
    "gather(var_name,var_val,-state_county_tract)"
   ]
  },
  {
   "cell_type": "markdown",
   "metadata": {},
   "source": [
    "#### Many ways to Rome - Tidy to Coordinate via 'reshape' and melt()\n",
    "NOTE: 'reshape' more powerful, sometimes overkill. Allows more control of \"melting\" and \"casting\" into various tabular shapes"
   ]
  },
  {
   "cell_type": "code",
   "execution_count": null,
   "metadata": {
    "collapsed": false
   },
   "outputs": [],
   "source": [
    "# library(reshape)\n",
    "\n",
    "# Many ways to Rome: alternative method\n",
    "# ?reshape2::melt() to coordinate format\n",
    "\n",
    "# data_pdb_df_pk %>%\n",
    "# reshape::melt(\"state_county_tract\") %>%\n",
    "# head()\n",
    "\n",
    "# data_pdb_df_pk %>%\n",
    "# reshape::melt(\"state_county_tract\") %>%\n",
    "# tail()"
   ]
  },
  {
   "cell_type": "markdown",
   "metadata": {},
   "source": [
    "## Mental Exercise: Reflect on how the wrangled data structures can help transparency\n",
    "\n",
    "Answer in the jupyter markdown block below"
   ]
  },
  {
   "cell_type": "markdown",
   "metadata": {},
   "source": []
  },
  {
   "cell_type": "markdown",
   "metadata": {},
   "source": [
    "# 4. Analyze - Plot, Summary, Model"
   ]
  },
  {
   "cell_type": "markdown",
   "metadata": {},
   "source": [
    "## Plot a Graphic\n"
   ]
  },
  {
   "cell_type": "code",
   "execution_count": null,
   "metadata": {
    "collapsed": false
   },
   "outputs": [],
   "source": [
    "data_pdb_df_pk %>% head()\n",
    "\n",
    "# library(ggplot2)\n",
    "\n",
    "# convert \n",
    "## Relevel the cars by mpg\n",
    "## this allows the plot to sort from most to least\n",
    "\n",
    "# histogram of population count (each entity is a tract)\n",
    "qplot(data=data_pdb_df_pk,Tot_Population_CEN_2010,geom=\"histogram\")\n",
    "\n",
    "\n",
    "# p = ggplot(data_pdb_df_pk, aes(x=reorder(state_county_tract,-Tot_Population_CEN_2010), y=Tot_Population_CEN_2010)) + \n",
    "#     geom_point(stat=\"identity\")\n"
   ]
  },
  {
   "cell_type": "markdown",
   "metadata": {},
   "source": [
    "### On Your Own: Request Tract Size Variable, Make scatterplot of Population by Tract Size\n",
    "\n",
    "http://api.census.gov/data/2015/pdb/tract/variables/LAND_AREA.json"
   ]
  },
  {
   "cell_type": "code",
   "execution_count": null,
   "metadata": {
    "collapsed": false
   },
   "outputs": [],
   "source": [
    "ggplot(data_pdb_df_pk, aes(x=(LAND_AREA),y=(Tot_Population_CEN_2010))) + \n",
    "geom_point()\n",
    "\n",
    "\n",
    "ggplot(data_pdb_df_pk, aes(x=log(LAND_AREA),y=log(Tot_Population_CEN_2010))) + \n",
    "geom_point()\n"
   ]
  },
  {
   "cell_type": "markdown",
   "metadata": {},
   "source": [
    "## Summarize a Table"
   ]
  },
  {
   "cell_type": "markdown",
   "metadata": {},
   "source": [
    "### Assume A Table is Our Desired Analysis\n",
    "County Level Count of Males and Females, sorted in decreasing order by Total Population Count"
   ]
  },
  {
   "cell_type": "code",
   "execution_count": null,
   "metadata": {
    "collapsed": false
   },
   "outputs": [],
   "source": [
    "str(data_pdb_df_pk)\n",
    "\n",
    "data_pdb_df_pk %>%\n",
    "mutate(Num_Males_2010 = Tot_Population_CEN_2010 - Females_CEN_2010) %>%\n",
    "group_by(State_name,County_name) %>%\n",
    "summarise(Num_M_2010_Cou=sum(Num_Males_2010),\n",
    "         Num_F_2010_Cou=sum(Females_CEN_2010),\n",
    "          Num_All_2010_Cou=sum(Tot_Population_CEN_2010)\n",
    "         ) %>%\n",
    "arrange(desc(Num_All_2010_Cou))\n",
    "\n",
    "tab_sex_county = data_pdb_df_pk %>%\n",
    "mutate(Num_Males_2010 = Tot_Population_CEN_2010 - Females_CEN_2010) %>%\n",
    "group_by(State_name,County_name) %>%\n",
    "summarise(Num_M_2010_Cou=sum(Num_Males_2010),\n",
    "         Num_F_2010_Cou=sum(Females_CEN_2010),\n",
    "          Num_All_2010_Cou=sum(Tot_Population_CEN_2010)\n",
    "         ) %>%\n",
    "arrange(desc(Num_All_2010_Cou))\n",
    "\n"
   ]
  },
  {
   "cell_type": "markdown",
   "metadata": {},
   "source": [
    "#### Assertion Check: How Many Counties in California?\n",
    "\n",
    "https://www.google.com/search?q=how+many+counties+in+california&ie=utf-8&oe=utf-8"
   ]
  },
  {
   "cell_type": "markdown",
   "metadata": {},
   "source": [
    "## Fit a Regression Model\n",
    "\n",
    "Regress Population Count on Land Area"
   ]
  },
  {
   "cell_type": "code",
   "execution_count": null,
   "metadata": {
    "collapsed": false
   },
   "outputs": [],
   "source": [
    "names(data_pdb_df_pk)\n",
    "\n",
    "data_pdb_df_pk %>%\n",
    "head()\n",
    "\n",
    "# intercept allowed to be estimated when land area is 0\n",
    "lm(Tot_Population_CEN_2010 ~ LAND_AREA,data=data_pdb_df_pk) %>%\n",
    "summary()\n",
    "\n",
    "# force intercept to be 0\n",
    "# 0 population when 0 land area\n",
    "lm(Tot_Population_CEN_2010 ~ -1 + LAND_AREA, data=data_pdb_df_pk) %>%\n",
    "summary()\n",
    "\n",
    "# log-outcome and log-predictor, estimate the intercept\n",
    "lm(log(Tot_Population_CEN_2010 + 0.01) ~ 1 + log(LAND_AREA + 0.01), data=data_pdb_df_pk) %>%\n",
    "summary()\n",
    "\n"
   ]
  },
  {
   "cell_type": "markdown",
   "metadata": {},
   "source": [
    "## Mental Exercise: Reflect on how you got to this \"final\" analysis stage. Compare the amount of code in 'Analyze Step 4' with Steps 1-3.\n",
    "\n",
    "Answer in the jupyter markdown block below"
   ]
  },
  {
   "cell_type": "markdown",
   "metadata": {},
   "source": []
  },
  {
   "cell_type": "markdown",
   "metadata": {},
   "source": [
    "# 0b. ORGANIZE!\n",
    "\n",
    "Organization is a fundamental part of Transparency, hence step 0. Further, Organization is crucial during handoff migrations."
   ]
  },
  {
   "cell_type": "markdown",
   "metadata": {},
   "source": [
    "## Transfer your wrangled data to a new environment\n",
    "\n",
    "Output: 'data_pdb_df_pk'"
   ]
  },
  {
   "cell_type": "markdown",
   "metadata": {},
   "source": [
    "### In .csv format (Universal), Output Table to Computer File\n",
    "\n",
    "Note: your_output_dir = '/home/foo' needs to represent your output directory"
   ]
  },
  {
   "cell_type": "code",
   "execution_count": null,
   "metadata": {
    "collapsed": false
   },
   "outputs": [],
   "source": [
    "getwd()"
   ]
  },
  {
   "cell_type": "code",
   "execution_count": null,
   "metadata": {
    "collapsed": true
   },
   "outputs": [],
   "source": [
    "# your_output_dir = 'Z:\\\\projects\\\\workshop_ccpr_stat\\\\workshop_data_workflow\\\\data_proc\\\\'\n",
    "\n",
    "your_output_dir = '/home/jovyan/work/test/'\n",
    "\n",
    "# ?write.csv\n",
    "\n",
    "# write.csv(tab_sex_county,paste0(your_output_dir,'tab_sex_county.csv'))\n",
    "\n",
    "# drop row number\n",
    "\n",
    "write.csv(data_pdb_df_pk,paste0(your_output_dir,'data_pdb_df_pk.csv'),row.names=FALSE)"
   ]
  },
  {
   "cell_type": "code",
   "execution_count": null,
   "metadata": {
    "collapsed": false
   },
   "outputs": [],
   "source": [
    "# list.files('/home/jovyan/work/test/')\n",
    "list.files(your_output_dir)"
   ]
  },
  {
   "cell_type": "markdown",
   "metadata": {},
   "source": [
    "### In .dta format (Stata), Output Table to Computer File"
   ]
  },
  {
   "cell_type": "code",
   "execution_count": null,
   "metadata": {
    "collapsed": false
   },
   "outputs": [],
   "source": [
    "# library(haven)\n",
    "\n",
    "# ?write_dta\n",
    "# write_dta(data_pdb_df_pk, paste0(your_output_dir,'data_pdb_df_pk_haven.dta'))\n",
    "# ?read_dta\n",
    "\n",
    "library(foreign)\n",
    "# ?read.dta\n",
    "\n",
    "write.dta(data_pdb_df_pk,paste0(your_output_dir,'data_pdb_df_pk_foreign.dta'))\n"
   ]
  },
  {
   "cell_type": "code",
   "execution_count": null,
   "metadata": {
    "collapsed": false
   },
   "outputs": [],
   "source": [
    "list.files('/home/jovyan/work/test/')"
   ]
  },
  {
   "cell_type": "markdown",
   "metadata": {},
   "source": [
    "## Transfer your software versions. What versions are you using!?\n",
    "\n",
    "Archive your software versions!\n",
    "\n",
    "`?sessionInfo()`\n",
    "\n",
    "**type in the function yourself in the Code box below**"
   ]
  },
  {
   "cell_type": "code",
   "execution_count": null,
   "metadata": {
    "collapsed": false
   },
   "outputs": [],
   "source": [
    "# sessionInfo()"
   ]
  },
  {
   "cell_type": "markdown",
   "metadata": {},
   "source": [
    "### Software Versions... big whoop... So What? How do I make use of this info?"
   ]
  },
  {
   "cell_type": "code",
   "execution_count": null,
   "metadata": {
    "collapsed": true
   },
   "outputs": [],
   "source": [
    "# library(devtools)\n",
    "# devtools::install_version(\"tidyr\", version = \"0.3.1\", repos = \"http://cran.us.r-project.org\")"
   ]
  },
  {
   "cell_type": "markdown",
   "metadata": {},
   "source": [
    "### Bundle the packages, export, and then unbundle in another environment\n",
    "\n",
    "Even easier than manually installing specific version 1-by-1\n",
    "\n",
    "https://rstudio.github.io/packrat/"
   ]
  },
  {
   "cell_type": "code",
   "execution_count": null,
   "metadata": {
    "collapsed": false
   },
   "outputs": [],
   "source": [
    "library(packrat)\n",
    "\n",
    "# ?packrat::bundle\n",
    "packrat::bundle()\n",
    "\n",
    "# ?packrat::unbundle\n",
    "bundle_path = \"/foo_path/foo.tar.gz\"\n",
    "packrat::unbundle(bundle=bundle_path)"
   ]
  },
  {
   "cell_type": "markdown",
   "metadata": {},
   "source": [
    "## Transfer your Jupyter File (from tmpnb.org) to your personal computer\n",
    "Download as a .ipynb file or an .r\n",
    "\n",
    "![](http://gdurl.com/udho)\n"
   ]
  },
  {
   "cell_type": "markdown",
   "metadata": {},
   "source": [
    "# Appendix"
   ]
  },
  {
   "cell_type": "markdown",
   "metadata": {},
   "source": [
    "## Resources\n",
    "\n",
    "* Jupyter\n",
    "http://jupyter.org/\n",
    "\n",
    "* Rstudio\n",
    "https://www.rstudio.com/\n",
    "\n",
    "* “The Elements of Data Analytic Style”\n",
    "https://leanpub.com/datastyle\n",
    "\n",
    "* “Tidy Data”\n",
    "http://www.jstatsoft.org/v59/i10\n",
    "\n",
    "* Open Science Framework\n",
    "https://osf.io/"
   ]
  },
  {
   "cell_type": "markdown",
   "metadata": {},
   "source": [
    "## [R] to Stata Interface\n",
    "\n",
    "https://github.com/EconometricsBySimulation/RStata/wiki/Dictionary:-Stata-to-R"
   ]
  },
  {
   "cell_type": "markdown",
   "metadata": {},
   "source": [
    "## Need a STATA copy?\n",
    "http://www.ccpr.ucla.edu/CCPRWebsite/services/computing\n",
    "\n",
    "## Need a STATA hint?\n",
    "http://www.ats.ucla.edu/stat/stata/modules/\n",
    "\n"
   ]
  },
  {
   "cell_type": "markdown",
   "metadata": {},
   "source": [
    "## Fit a regression model in Stata"
   ]
  },
  {
   "cell_type": "markdown",
   "metadata": {},
   "source": [
    "### read in data\n",
    "\n",
    "use \"Z:\\\\projects\\\\workshop_ccpr_stat\\\\workshop_data_workflow\\\\data_proc\\\\data_pdb_df_pk_foreign.dta\", clear\n",
    "\n",
    "\n",
    "### estimate intercept\n",
    "reg Tot_Population_CEN_2010 LAND_AREA\n",
    "\n",
    "\n",
    "### force intercept to be 0\n",
    "reg Tot_Population_CEN_2010 LAND_AREA, nocon\n",
    "\n",
    "\n",
    "### log-outcome and log-predictor, estimate the intercept\n",
    "\n",
    "generate log_Tot_Pop = log(Tot_Population_CEN_2010+0.01)  \n",
    "generate log_Land_Area = log(LAND_AREA+0.01)  \n",
    "\n",
    "reg log_Tot_Pop log_Land_Area\n"
   ]
  }
 ],
 "metadata": {
  "kernelspec": {
   "display_name": "R",
   "language": "R",
   "name": "ir"
  },
  "language_info": {
   "codemirror_mode": "r",
   "file_extension": ".r",
   "mimetype": "text/x-r-source",
   "name": "R",
   "pygments_lexer": "r",
   "version": "3.2.2"
  },
  "widgets": {
   "state": {},
   "version": "1.1.2"
  }
 },
 "nbformat": 4,
 "nbformat_minor": 0
}
